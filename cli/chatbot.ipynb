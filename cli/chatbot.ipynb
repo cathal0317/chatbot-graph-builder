{
 "cells": [
  {
   "cell_type": "code",
   "execution_count": 24,
   "id": "b7e396e7",
   "metadata": {},
   "outputs": [
    {
     "name": "stdout",
     "output_type": "stream",
     "text": [
      "Imports successful!\n"
     ]
    }
   ],
   "source": [
    "# Setup imports and path\n",
    "import sys\n",
    "import os\n",
    "import uuid\n",
    "sys.path.append('..')  # Add parent directory to path\n",
    "\n",
    "from core.dst_manager import DSTManager\n",
    "from dotenv import load_dotenv\n",
    "from loaders.node_loader import load_nodes\n",
    "import logging\n",
    "\n",
    "# Load environment variables\n",
    "load_dotenv()\n",
    "\n",
    "# Set up logging\n",
    "logging.basicConfig(level=logging.INFO, format='%(levelname)s: %(message)s')\n",
    "logging.getLogger('openai._base_client').setLevel(logging.WARNING)\n",
    "logging.getLogger('httpx').setLevel(logging.WARNING)\n",
    "\n",
    "print(\"Imports successful!\")\n"
   ]
  },
  {
   "cell_type": "code",
   "execution_count": 25,
   "id": "888eb016",
   "metadata": {},
   "outputs": [
    {
     "name": "stderr",
     "output_type": "stream",
     "text": [
      "INFO:loaders.node_loader:Loaded 9 nodes from ../config/card_issuance_chatbot.json\n",
      "INFO:storage.context_store:Using in-memory storage for context\n",
      "INFO:core.dst_manager:DST Manager initialized with 9 nodes\n",
      "INFO:core.dst_manager:Start node: welcome\n",
      "INFO:core.dst_manager:Stage detection: enabled\n"
     ]
    },
    {
     "name": "stdout",
     "output_type": "stream",
     "text": [
      " 로드된 노드 수: 9\n",
      "Loaded 9 nodes from config\n",
      "9개 노드 추가 완료\n",
      "✅ 그래프 생성 완료!\n",
      "노드 수: 9\n",
      "엣지 수: 8\n",
      "\n",
      "✅ 순환 없음 - 그래프가 DAG입니다.\n",
      "위상 정렬 순서: welcome -> collect_personal_info -> select_card_type -> income_verification -> address_collection -> final_confirmation -> process_application -> completion_approved -> completion_rejected\n",
      "DST Manager initialized successfully!\n",
      "Available nodes: ['welcome', 'collect_personal_info', 'select_card_type', 'income_verification', 'address_collection', 'final_confirmation', 'process_application', 'completion_approved', 'completion_rejected']\n",
      "Start node: welcome\n"
     ]
    }
   ],
   "source": [
    "# Load chatbot configuration and initialize DST Manager\n",
    "config_path = '../config/card_issuance_chatbot.json'\n",
    "\n",
    "try:\n",
    "    # Load nodes from configuration\n",
    "    nodes = load_nodes(config_path, enable_graph_validation=False)\n",
    "    print(f\"Loaded {len(nodes)} nodes from config\")\n",
    "    \n",
    "    # Initialize DST Manager with the loaded nodes\n",
    "    dst_manager = DSTManager(\n",
    "        nodes_config=nodes, \n",
    "        use_redis=False,\n",
    "        start_node=None,  # Auto-detect start node\n",
    "        enable_llm_stage_detection=True\n",
    "    )\n",
    "    \n",
    "    print(\"DST Manager initialized successfully!\")\n",
    "    print(f\"Available nodes: {list(nodes.keys())}\")\n",
    "    print(f\"Start node: {dst_manager.start_node}\")\n",
    "    \n",
    "except Exception as e:\n",
    "    print(f\"Error: {e}\")\n",
    "    import traceback\n",
    "    traceback.print_exc()\n"
   ]
  },
  {
   "cell_type": "code",
   "execution_count": 26,
   "id": "2c8b2900",
   "metadata": {},
   "outputs": [
    {
     "name": "stderr",
     "output_type": "stream",
     "text": [
      "INFO:core.dst_manager:세션 시작: d17fd83f-2bf0-4071-b34c-28f621398083\n"
     ]
    },
    {
     "name": "stdout",
     "output_type": "stream",
     "text": [
      "Starting new session: d17fd83f-2bf0-4071-b34c-28f621398083\n",
      "Session started successfully!\n",
      "Current node: welcome\n",
      "Turn count: 0\n",
      "Ready for chatbot interactions!\n"
     ]
    }
   ],
   "source": [
    "# Start a new session\n",
    "session_id = str(uuid.uuid4())\n",
    "print(f\"Starting new session: {session_id}\")\n",
    "\n",
    "try:\n",
    "    session_id = dst_manager.start_session(session_id)\n",
    "    print(\"Session started successfully!\")\n",
    "    \n",
    "    # Get session info\n",
    "    session_info = dst_manager.get_session_info(session_id)\n",
    "    if session_info:\n",
    "        print(f\"Current node: {session_info.get('current_node')}\")\n",
    "        print(f\"Turn count: {session_info.get('turn_count', 0)}\")\n",
    "        \n",
    "except Exception as e:\n",
    "    print(f\"Failed to start session: {e}\")\n",
    "    import traceback\n",
    "    traceback.print_exc()\n",
    "\n",
    "print(\"Ready for chatbot interactions!\")\n"
   ]
  },
  {
   "cell_type": "code",
   "execution_count": 27,
   "id": "c5dfa71f",
   "metadata": {},
   "outputs": [
    {
     "name": "stdout",
     "output_type": "stream",
     "text": [
      "Test functions defined!\n"
     ]
    }
   ],
   "source": [
    "# Test chatbot interaction\n",
    "def test_interaction(user_message, show_debug=True):\n",
    "    \"\"\"Test a single interaction with the chatbot\"\"\"\n",
    "    try:\n",
    "        print(f\"\\nUser: {user_message}\")\n",
    "        \n",
    "        # Process user message\n",
    "        result = dst_manager.process_turn(session_id, user_message)\n",
    "        \n",
    "        # Display response\n",
    "        print(f\"Bot: {result.get('response', 'No response')}\")\n",
    "        \n",
    "        if show_debug:\n",
    "            print(f\"Debug - Current node: {result.get('current_node', 'Unknown')}\")\n",
    "            print(f\"Debug - Turn count: {result.get('turn_count', 0)}\")\n",
    "            print(f\"Debug - Session complete: {result.get('session_complete', False)}\")\n",
    "            \n",
    "            slots = result.get('slots', {})\n",
    "            if slots:\n",
    "                print(\"Debug - Collected slots:\")\n",
    "                for slot_name, slot_value in slots.items():\n",
    "                    print(f\"  {slot_name}: {slot_value}\")\n",
    "        \n",
    "        return result\n",
    "        \n",
    "    except Exception as e:\n",
    "        print(f\"Error in interaction: {e}\")\n",
    "        import traceback\n",
    "        traceback.print_exc()\n",
    "        return None\n",
    "\n",
    "def reset_session():\n",
    "    \"\"\"Reset the current session\"\"\"\n",
    "    try:\n",
    "        dst_manager.reset_session(session_id)\n",
    "        print(\"Session reset successfully.\")\n",
    "    except Exception as e:\n",
    "        print(f\"Failed to reset session: {e}\")\n",
    "\n",
    "print(\"Test functions defined!\")\n"
   ]
  },
  {
   "cell_type": "code",
   "execution_count": 28,
   "id": "061db27d",
   "metadata": {},
   "outputs": [
    {
     "name": "stdout",
     "output_type": "stream",
     "text": [
      "\n",
      "User: 안녕하세요\n",
      "Bot: 안녕하세요! 마고은행 카드 발급 서비스에 오신 것을 환영합니다. 😊 평일 오전 9시부터 오후 6시까지 서비스를 제공하고 있으니, 궁금한 점이나 도움이 필요하시면 언제든 말씀해주세요! 카드 발급을 시작해볼까요?\n",
      "Debug - Current node: collect_personal_info\n",
      "Debug - Turn count: 1\n",
      "Debug - Session complete: False\n"
     ]
    },
    {
     "data": {
      "text/plain": [
       "{'response': '안녕하세요! 마고은행 카드 발급 서비스에 오신 것을 환영합니다. 😊 평일 오전 9시부터 오후 6시까지 서비스를 제공하고 있으니, 궁금한 점이나 도움이 필요하시면 언제든 말씀해주세요! 카드 발급을 시작해볼까요?',\n",
       " 'session_id': 'd17fd83f-2bf0-4071-b34c-28f621398083',\n",
       " 'current_node': 'collect_personal_info',\n",
       " 'turn_count': 1,\n",
       " 'session_complete': False,\n",
       " 'slots': {},\n",
       " 'context': {'last_intent': 'greeting',\n",
       "  'last_entities': {},\n",
       "  'last_confidence': 0.95,\n",
       "  'start': True,\n",
       "  'greeted': True,\n",
       "  'last_user_message': '안녕하세요'}}"
      ]
     },
     "execution_count": 28,
     "metadata": {},
     "output_type": "execute_result"
    }
   ],
   "source": [
    "# Test the chatbot with a greeting\n",
    "test_interaction(\"안녕하세요\")\n"
   ]
  },
  {
   "cell_type": "code",
   "execution_count": 29,
   "id": "5c8e55db",
   "metadata": {},
   "outputs": [
    {
     "name": "stdout",
     "output_type": "stream",
     "text": [
      "\n",
      "User: 안녕하세요\n",
      "Bot: 안녕하세요! 신용카드 발급을 위해 몇 가지 정보가 필요합니다. 먼저 성함과 생년월일(예: 900101)을 알려주실 수 있을까요? 😊\n",
      "Debug - Current node: collect_personal_info\n",
      "Debug - Turn count: 2\n",
      "Debug - Session complete: False\n"
     ]
    },
    {
     "data": {
      "text/plain": [
       "{'response': '안녕하세요! 신용카드 발급을 위해 몇 가지 정보가 필요합니다. 먼저 성함과 생년월일(예: 900101)을 알려주실 수 있을까요? 😊',\n",
       " 'session_id': 'd17fd83f-2bf0-4071-b34c-28f621398083',\n",
       " 'current_node': 'collect_personal_info',\n",
       " 'turn_count': 2,\n",
       " 'session_complete': False,\n",
       " 'slots': {},\n",
       " 'context': {'last_intent': 'greeting',\n",
       "  'last_entities': {},\n",
       "  'last_confidence': 0.95,\n",
       "  'start': True,\n",
       "  'greeted': True,\n",
       "  'last_user_message': '안녕하세요'}}"
      ]
     },
     "execution_count": 29,
     "metadata": {},
     "output_type": "execute_result"
    }
   ],
   "source": [
    "# Continue the conversation - modify the message below as needed\n",
    "user_message = \"안녕하세요\"  # Change this message for different tests\n",
    "\n",
    "test_interaction(user_message)\n"
   ]
  },
  {
   "cell_type": "code",
   "execution_count": 30,
   "id": "9496fc21",
   "metadata": {},
   "outputs": [
    {
     "name": "stdout",
     "output_type": "stream",
     "text": [
      "Current session status:\n",
      "  Session ID: d17fd83f-2bf0-4071-b34c-28f621398083\n",
      "  Current node: collect_personal_info\n",
      "  Turn count: 2\n",
      "  Complete: No\n",
      "  No information collected yet\n"
     ]
    }
   ],
   "source": [
    "# Check current session status\n",
    "session_info = dst_manager.get_session_info(session_id)\n",
    "\n",
    "if session_info:\n",
    "    print(\"Current session status:\")\n",
    "    print(f\"  Session ID: {session_id}\")\n",
    "    print(f\"  Current node: {session_info.get('current_node')}\")\n",
    "    print(f\"  Turn count: {session_info.get('turn_count', 0)}\")\n",
    "    print(f\"  Complete: {'Yes' if session_info.get('is_complete') else 'No'}\")\n",
    "    \n",
    "    slots = session_info.get('slots', {})\n",
    "    if slots:\n",
    "        print(\"  Collected information:\")\n",
    "        for slot_name, slot_value in slots.items():\n",
    "            print(f\"    {slot_name}: {slot_value}\")\n",
    "    else:\n",
    "        print(\"  No information collected yet\")\n",
    "else:\n",
    "    print(\"Session information not found\")\n"
   ]
  }
 ],
 "metadata": {
  "kernelspec": {
   "display_name": "venv",
   "language": "python",
   "name": "python3"
  },
  "language_info": {
   "codemirror_mode": {
    "name": "ipython",
    "version": 3
   },
   "file_extension": ".py",
   "mimetype": "text/x-python",
   "name": "python",
   "nbconvert_exporter": "python",
   "pygments_lexer": "ipython3",
   "version": "3.9.6"
  }
 },
 "nbformat": 4,
 "nbformat_minor": 5
}
